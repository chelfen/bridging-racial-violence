{
 "cells": [
  {
   "cell_type": "code",
   "execution_count": 2,
   "metadata": {},
   "outputs": [],
   "source": [
    "import pandas as pd\n",
    "import gensim\n",
    "import gensim.corpora as corpora\n",
    "from pprint import pprint\n",
    "import pyLDAvis.gensim\n",
    "import pickle \n",
    "import pyLDAvis\n",
    "import os"
   ]
  },
  {
   "cell_type": "code",
   "execution_count": 30,
   "metadata": {},
   "outputs": [],
   "source": [
    "atl70 = pd.read_excel('/Users/clairefenton/Desktop/Emory/ATL_1970_Predictions_new_preprocessing.xlsx')\n",
    "atl41 = pd.read_csv('/Users/clairefenton/Desktop/Emory/ATL_1941_new_preprocessing.csv')"
   ]
  },
  {
   "cell_type": "code",
   "execution_count": 38,
   "metadata": {},
   "outputs": [],
   "source": [
    "def create_topic_model(word_list, n, year):\n",
    "    id2word = corpora.Dictionary(word_list)\n",
    "    texts = word_list\n",
    "    corpus = [id2word.doc2bow(text) for text in texts]\n",
    "    num_topics = n\n",
    "    lda_model = gensim.models.LdaMulticore(corpus=corpus,\n",
    "                                        id2word=id2word,\n",
    "                                        num_topics=num_topics)\n",
    "    doc_lda = lda_model[corpus]\n",
    "    pyLDAvis.enable_notebook()\n",
    "    LDAvis_data_filepath = os.path.join('/Users/clairefenton/Downloads/ldavis_prepared_'+str(num_topics))\n",
    "    if 1 == 1:\n",
    "        LDAvis_prepared = pyLDAvis.gensim.prepare(lda_model, corpus, id2word)\n",
    "        with open(LDAvis_data_filepath, 'wb') as f:\n",
    "            pickle.dump(LDAvis_prepared, f)\n",
    "    with open(LDAvis_data_filepath, 'rb') as f:\n",
    "        LDAvis_prepared = pickle.load(f)\n",
    "    pyLDAvis.save_html(LDAvis_prepared, '/Users/clairefenton/Downloads/BRV_lda_'+ year + '_' + str(num_topics) +'.html')\n",
    "    LDAvis_prepared"
   ]
  },
  {
   "cell_type": "code",
   "execution_count": 36,
   "metadata": {},
   "outputs": [],
   "source": [
    "atl70_rv = atl70[atl70['CF_Correct'] == 1]\n",
    "atl41_rv = atl41[atl41['entry'] == 1]"
   ]
  },
  {
   "cell_type": "code",
   "execution_count": 32,
   "metadata": {},
   "outputs": [],
   "source": [
    "word_list_70 = [x.split() for x in atl70_rv['text']]\n",
    "\n",
    "cleaned_word_list_70 = []\n",
    "for list in word_list_70:\n",
    "    cleaned_word_list_70.append([x for x in list if x != 'say'])"
   ]
  },
  {
   "cell_type": "code",
   "execution_count": 37,
   "metadata": {},
   "outputs": [],
   "source": [
    "word_list_41 = [x.split() for x in atl41_rv['text_x']]\n",
    "\n",
    "cleaned_word_list_41 = []\n",
    "for list in word_list_41:\n",
    "    cleaned_word_list_41.append([x for x in list if x != 'say'])"
   ]
  },
  {
   "cell_type": "code",
   "execution_count": 40,
   "metadata": {},
   "outputs": [],
   "source": [
    "for i in range(25, 50, 5):\n",
    "    create_topic_model(cleaned_word_list_41, i, '1941')"
   ]
  }
 ],
 "metadata": {
  "kernelspec": {
   "display_name": "Python 3",
   "language": "python",
   "name": "python3"
  },
  "language_info": {
   "codemirror_mode": {
    "name": "ipython",
    "version": 3
   },
   "file_extension": ".py",
   "mimetype": "text/x-python",
   "name": "python",
   "nbconvert_exporter": "python",
   "pygments_lexer": "ipython3",
   "version": "3.11.1"
  },
  "orig_nbformat": 4
 },
 "nbformat": 4,
 "nbformat_minor": 2
}
