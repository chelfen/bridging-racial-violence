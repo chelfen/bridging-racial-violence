{
 "cells": [
  {
   "cell_type": "code",
   "execution_count": 1,
   "metadata": {},
   "outputs": [],
   "source": [
    "import pandas as pd\n",
    "import numpy as np\n",
    "import re\n",
    "from matplotlib import pyplot as plt\n",
    "import nltk\n",
    "from nltk.corpus import stopwords"
   ]
  },
  {
   "cell_type": "code",
   "execution_count": 2,
   "metadata": {},
   "outputs": [],
   "source": [
    "articles = pd.read_excel('/Users/clairefenton/Downloads/ATL_predictions_1941.xlsx')\n",
    "articles_to_clean = pd.read_csv('/Users/clairefenton/Downloads/ATL_1941.csv')"
   ]
  },
  {
   "cell_type": "code",
   "execution_count": 3,
   "metadata": {},
   "outputs": [
    {
     "data": {
      "text/plain": [
       "0                                  \"HONEYMOON PREFERRED\"\n",
       "1                 POLICEMEN KEPT BUSY AS 1940 PASSES OUT\n",
       "2                                  \"HONEYMOON PREFERRED\"\n",
       "3      SLAYER FREED WITHOUT BAIL IN PRELIMINARY HEARI...\n",
       "4               Man Believed Insane Picks Jail Cell Lock\n",
       "                             ...                        \n",
       "773        Xmas Cheer Chairman Is Abused By Liquor Squad\n",
       "774          Four Victims, Of Nobs In '41, Says Tuskegee\n",
       "775                        MANILA SUFFERS NEW JAP BLASTS\n",
       "776                      Rice Disloyalty Rumor Is Spiked\n",
       "777                 Friction With MP's Again In Columbia\n",
       "Name: original_text, Length: 778, dtype: object"
      ]
     },
     "execution_count": 3,
     "metadata": {},
     "output_type": "execute_result"
    }
   ],
   "source": [
    "articles['original_text'] = articles['original_text'].apply(lambda x : x[0:x.index('Â\\xa0')])\n",
    "articles['original_text'].str.strip()"
   ]
  },
  {
   "cell_type": "code",
   "execution_count": 4,
   "metadata": {},
   "outputs": [],
   "source": [
    "def text_preprocessing(text):\n",
    "    text = text.lower()\n",
    "\n",
    "    text = re.sub(r'[_\"\\-;%()|^+~&=*%.,!?:#$@\\[\\]/]', '', text)\n",
    "    text = re.sub(r'\\d+', '', text)\n",
    "    text = re.sub(r'xa0', '', text)\n",
    "    text = re.sub(r'\\\\', '', text)\n",
    "    text = re.sub(r'[\\']', '', text)\n",
    "\n",
    "    text = nltk.WordPunctTokenizer().tokenize(text)\n",
    "    text = [nltk.stem.WordNetLemmatizer().lemmatize(token, pos='v') for token in text if len(token) > 1]\n",
    "\n",
    "    text = ' '.join(map(str, text))\n",
    "\n",
    "    words = text.split()\n",
    "    filtered_words = [word for word in words if word not in stopwords.words('english')]\n",
    "\n",
    "    text = ' '.join(filtered_words)\n",
    "    \n",
    "    return text"
   ]
  },
  {
   "cell_type": "code",
   "execution_count": 5,
   "metadata": {},
   "outputs": [],
   "source": [
    "new_text = []\n",
    "for i in range(len(articles_to_clean)):\n",
    "    text = articles_to_clean['original_text'].iloc[i]\n",
    "    text = text_preprocessing(text)\n",
    "    new_text.append(text)\n",
    "\n",
    "articles_to_clean['text'] = new_text"
   ]
  },
  {
   "cell_type": "code",
   "execution_count": 6,
   "metadata": {},
   "outputs": [],
   "source": [
    "merged_articles = pd.merge(articles_to_clean, articles, on='RecordID', how='inner')"
   ]
  },
  {
   "cell_type": "code",
   "execution_count": 7,
   "metadata": {},
   "outputs": [],
   "source": [
    "merged_articles.to_csv('ATL_1941_new_preprocessing.csv')"
   ]
  },
  {
   "cell_type": "code",
   "execution_count": 8,
   "metadata": {},
   "outputs": [],
   "source": [
    "merged_articles = pd.read_csv('ATL_1941_new_preprocessing.csv')"
   ]
  },
  {
   "cell_type": "markdown",
   "metadata": {},
   "source": [
    "Sentiment analysis"
   ]
  },
  {
   "cell_type": "code",
   "execution_count": 9,
   "metadata": {},
   "outputs": [],
   "source": [
    "from nltk.sentiment import SentimentIntensityAnalyzer"
   ]
  },
  {
   "cell_type": "code",
   "execution_count": 10,
   "metadata": {},
   "outputs": [],
   "source": [
    "sia = SentimentIntensityAnalyzer()"
   ]
  },
  {
   "cell_type": "code",
   "execution_count": 11,
   "metadata": {},
   "outputs": [],
   "source": [
    "neg = []\n",
    "pos = []\n",
    "neu = []\n",
    "comp = []"
   ]
  },
  {
   "cell_type": "code",
   "execution_count": 12,
   "metadata": {},
   "outputs": [],
   "source": [
    "def score_sentiment(df, column):\n",
    "    for i in range(len(df)):\n",
    "        scores = sia.polarity_scores(df[column].iloc[i])\n",
    "        neg.append(scores['neg'])\n",
    "        pos.append(scores['pos'])\n",
    "        neu.append(scores['neu'])\n",
    "        comp.append(scores['compound'])\n",
    "    d = {'Positive': pos, 'Negative': neg, 'Neutral': neu, 'Compound': comp}\n",
    "    scores = pd.DataFrame(data=d)\n",
    "    return scores"
   ]
  },
  {
   "cell_type": "code",
   "execution_count": 13,
   "metadata": {},
   "outputs": [],
   "source": [
    "articles_violence = merged_articles[merged_articles['entry'] == 1]"
   ]
  },
  {
   "cell_type": "code",
   "execution_count": 14,
   "metadata": {},
   "outputs": [],
   "source": [
    "scores = score_sentiment(articles_violence, 'text_x')"
   ]
  },
  {
   "cell_type": "code",
   "execution_count": 15,
   "metadata": {},
   "outputs": [
    {
     "data": {
      "text/html": [
       "<div>\n",
       "<style scoped>\n",
       "    .dataframe tbody tr th:only-of-type {\n",
       "        vertical-align: middle;\n",
       "    }\n",
       "\n",
       "    .dataframe tbody tr th {\n",
       "        vertical-align: top;\n",
       "    }\n",
       "\n",
       "    .dataframe thead th {\n",
       "        text-align: right;\n",
       "    }\n",
       "</style>\n",
       "<table border=\"1\" class=\"dataframe\">\n",
       "  <thead>\n",
       "    <tr style=\"text-align: right;\">\n",
       "      <th></th>\n",
       "      <th>Positive</th>\n",
       "      <th>Negative</th>\n",
       "      <th>Neutral</th>\n",
       "      <th>Compound</th>\n",
       "    </tr>\n",
       "  </thead>\n",
       "  <tbody>\n",
       "    <tr>\n",
       "      <th>0</th>\n",
       "      <td>0.051</td>\n",
       "      <td>0.196</td>\n",
       "      <td>0.753</td>\n",
       "      <td>-0.9977</td>\n",
       "    </tr>\n",
       "    <tr>\n",
       "      <th>1</th>\n",
       "      <td>0.138</td>\n",
       "      <td>0.128</td>\n",
       "      <td>0.734</td>\n",
       "      <td>-0.6808</td>\n",
       "    </tr>\n",
       "    <tr>\n",
       "      <th>2</th>\n",
       "      <td>0.061</td>\n",
       "      <td>0.216</td>\n",
       "      <td>0.723</td>\n",
       "      <td>-0.9958</td>\n",
       "    </tr>\n",
       "    <tr>\n",
       "      <th>3</th>\n",
       "      <td>0.026</td>\n",
       "      <td>0.217</td>\n",
       "      <td>0.756</td>\n",
       "      <td>-0.9902</td>\n",
       "    </tr>\n",
       "    <tr>\n",
       "      <th>4</th>\n",
       "      <td>0.054</td>\n",
       "      <td>0.131</td>\n",
       "      <td>0.815</td>\n",
       "      <td>-0.9732</td>\n",
       "    </tr>\n",
       "    <tr>\n",
       "      <th>...</th>\n",
       "      <td>...</td>\n",
       "      <td>...</td>\n",
       "      <td>...</td>\n",
       "      <td>...</td>\n",
       "    </tr>\n",
       "    <tr>\n",
       "      <th>147</th>\n",
       "      <td>0.069</td>\n",
       "      <td>0.131</td>\n",
       "      <td>0.800</td>\n",
       "      <td>-0.8402</td>\n",
       "    </tr>\n",
       "    <tr>\n",
       "      <th>148</th>\n",
       "      <td>0.048</td>\n",
       "      <td>0.144</td>\n",
       "      <td>0.808</td>\n",
       "      <td>-0.9729</td>\n",
       "    </tr>\n",
       "    <tr>\n",
       "      <th>149</th>\n",
       "      <td>0.068</td>\n",
       "      <td>0.084</td>\n",
       "      <td>0.848</td>\n",
       "      <td>-0.8902</td>\n",
       "    </tr>\n",
       "    <tr>\n",
       "      <th>150</th>\n",
       "      <td>0.038</td>\n",
       "      <td>0.218</td>\n",
       "      <td>0.744</td>\n",
       "      <td>-0.9628</td>\n",
       "    </tr>\n",
       "    <tr>\n",
       "      <th>151</th>\n",
       "      <td>0.139</td>\n",
       "      <td>0.101</td>\n",
       "      <td>0.760</td>\n",
       "      <td>0.7783</td>\n",
       "    </tr>\n",
       "  </tbody>\n",
       "</table>\n",
       "<p>152 rows × 4 columns</p>\n",
       "</div>"
      ],
      "text/plain": [
       "     Positive  Negative  Neutral  Compound\n",
       "0       0.051     0.196    0.753   -0.9977\n",
       "1       0.138     0.128    0.734   -0.6808\n",
       "2       0.061     0.216    0.723   -0.9958\n",
       "3       0.026     0.217    0.756   -0.9902\n",
       "4       0.054     0.131    0.815   -0.9732\n",
       "..        ...       ...      ...       ...\n",
       "147     0.069     0.131    0.800   -0.8402\n",
       "148     0.048     0.144    0.808   -0.9729\n",
       "149     0.068     0.084    0.848   -0.8902\n",
       "150     0.038     0.218    0.744   -0.9628\n",
       "151     0.139     0.101    0.760    0.7783\n",
       "\n",
       "[152 rows x 4 columns]"
      ]
     },
     "execution_count": 15,
     "metadata": {},
     "output_type": "execute_result"
    }
   ],
   "source": [
    "scores"
   ]
  },
  {
   "cell_type": "code",
   "execution_count": 16,
   "metadata": {},
   "outputs": [
    {
     "data": {
      "text/plain": [
       "Text(0.5, 1.0, 'Distribution of Positive and Negative Sentiment for Atlanta Daily World 1941 Racial Violence Articles')"
      ]
     },
     "execution_count": 16,
     "metadata": {},
     "output_type": "execute_result"
    },
    {
     "data": {
      "image/png": "[encoded data removed]",
      "text/plain": [
       "<Figure size 640x480 with 1 Axes>"
      ]
     },
     "metadata": {},
     "output_type": "display_data"
    }
   ],
   "source": [
    "plt.hist(scores['Positive'], label='Positive', alpha=0.9, color='lightblue')\n",
    "plt.hist(scores['Negative'], label='Negative', alpha=0.5, color='red')\n",
    "plt.xlabel('Proportion of words')\n",
    "plt.ylabel('Number of articles')\n",
    "plt.title('Distribution of Positive and Negative Sentiment for Atlanta Daily World 1941 Racial Violence Articles')"
   ]
  },
  {
   "cell_type": "code",
   "execution_count": 17,
   "metadata": {},
   "outputs": [],
   "source": [
    "articles_nonviolence = merged_articles[merged_articles['entry'] == 0]\n",
    "non_violent_scores = score_sentiment(articles_nonviolence, 'text_x')"
   ]
  },
  {
   "cell_type": "code",
   "execution_count": 18,
   "metadata": {},
   "outputs": [
    {
     "data": {
      "text/plain": [
       "(array([ 19.,  75., 189., 165., 124., 100.,  45.,  36.,  15.,  10.]),\n",
       " array([0.006 , 0.0448, 0.0836, 0.1224, 0.1612, 0.2   , 0.2388, 0.2776,\n",
       "        0.3164, 0.3552, 0.394 ]),\n",
       " <BarContainer object of 10 artists>)"
      ]
     },
     "execution_count": 18,
     "metadata": {},
     "output_type": "execute_result"
    },
    {
     "data": {
      "image/png": "[encoded data removed]",
      "text/plain": [
       "<Figure size 640x480 with 1 Axes>"
      ]
     },
     "metadata": {},
     "output_type": "display_data"
    }
   ],
   "source": [
    "plt.hist(non_violent_scores['Positive'], label='Positive', alpha=0.9, color='lightblue')\n",
    "plt.hist(non_violent_scores['Negative'], label='Negative', alpha=0.5, color='red')"
   ]
  },
  {
   "cell_type": "code",
   "execution_count": 19,
   "metadata": {},
   "outputs": [
    {
     "data": {
      "text/plain": [
       "(array([ 4.,  5., 17., 16., 15., 12., 16., 11., 16., 13.,  5.,  6.,  2.,\n",
       "         2.,  6.,  3.,  0.,  1.,  1.,  1.]),\n",
       " array([0.058 , 0.0748, 0.0916, 0.1084, 0.1252, 0.142 , 0.1588, 0.1756,\n",
       "        0.1924, 0.2092, 0.226 , 0.2428, 0.2596, 0.2764, 0.2932, 0.31  ,\n",
       "        0.3268, 0.3436, 0.3604, 0.3772, 0.394 ]),\n",
       " <BarContainer object of 20 artists>)"
      ]
     },
     "execution_count": 19,
     "metadata": {},
     "output_type": "execute_result"
    },
    {
     "data": {
      "image/png": "[encoded data removed]",
      "text/plain": [
       "<Figure size 640x480 with 1 Axes>"
      ]
     },
     "metadata": {},
     "output_type": "display_data"
    }
   ],
   "source": [
    "plt.hist(non_violent_scores['Negative'], label='Non-violent', alpha=0.7, color='green', bins=20)\n",
    "plt.hist(scores['Negative'], label='Violent', alpha=0.7, color='orange', bins=20)"
   ]
  },
  {
   "cell_type": "code",
   "execution_count": 20,
   "metadata": {},
   "outputs": [
    {
     "data": {
      "text/plain": [
       "(array([ 5.,  6., 13.,  9., 24., 17., 10.,  8., 13., 12., 10.,  7.,  3.,\n",
       "         4.,  5.,  2.,  1.,  1.,  1.,  1.]),\n",
       " array([0.    , 0.0116, 0.0232, 0.0348, 0.0464, 0.058 , 0.0696, 0.0812,\n",
       "        0.0928, 0.1044, 0.116 , 0.1276, 0.1392, 0.1508, 0.1624, 0.174 ,\n",
       "        0.1856, 0.1972, 0.2088, 0.2204, 0.232 ]),\n",
       " <BarContainer object of 20 artists>)"
      ]
     },
     "execution_count": 20,
     "metadata": {},
     "output_type": "execute_result"
    },
    {
     "data": {
      "image/png": "[encoded data removed]",
      "text/plain": [
       "<Figure size 640x480 with 1 Axes>"
      ]
     },
     "metadata": {},
     "output_type": "display_data"
    }
   ],
   "source": [
    "plt.hist(non_violent_scores['Positive'], label='Non-violent', alpha=0.7, color='green', bins=20)\n",
    "plt.hist(scores['Positive'], label='Violent', alpha=0.7, color='orange', bins=20)"
   ]
  },
  {
   "cell_type": "code",
   "execution_count": 21,
   "metadata": {},
   "outputs": [
    {
     "name": "stdout",
     "output_type": "stream",
     "text": [
      "0.15816709511568125\n",
      "0.174625\n"
     ]
    }
   ],
   "source": [
    "print(non_violent_scores['Negative'].mean())\n",
    "print(scores['Negative'].mean())"
   ]
  },
  {
   "cell_type": "markdown",
   "metadata": {},
   "source": [
    "T-test for negativity between 2 article groups"
   ]
  },
  {
   "cell_type": "code",
   "execution_count": 22,
   "metadata": {},
   "outputs": [],
   "source": [
    "def t_test(df1, df2, sentiment_type):\n",
    "    mu1 = df1[sentiment_type].mean()\n",
    "    var1 = np.var(df1[sentiment_type])\n",
    "    n1 = len(df1)\n",
    "\n",
    "    mu2 = df2[sentiment_type].mean()\n",
    "    var2 = np.var(df2[sentiment_type])\n",
    "    n2 = len(df2)\n",
    "\n",
    "    t_value = (mu1-mu2)/np.sqrt((var1/n1) + (var2/n2))\n",
    "\n",
    "    return t_value"
   ]
  },
  {
   "cell_type": "code",
   "execution_count": 23,
   "metadata": {},
   "outputs": [],
   "source": [
    "def degrees_of_freedom(df1, df2, sentiment_type):\n",
    "    var1 = np.var(df1[sentiment_type])\n",
    "    n1 = len(df1)\n",
    "\n",
    "    var2 = np.var(df2[sentiment_type])\n",
    "    n2 = len(df2)\n",
    "\n",
    "    print(var1, n1)\n",
    "    print(var2, n2)\n",
    "\n",
    "    num = ((var1**2/n1) + (var2**2/n2))**2\n",
    "    denom1 = ((var1**2/n1)**2/(n1-1))\n",
    "    denom2 = ((var2**2/n2)**2/(n2-1))\n",
    "\n",
    "    return num/(denom1 + denom2)"
   ]
  },
  {
   "cell_type": "code",
   "execution_count": 24,
   "metadata": {},
   "outputs": [
    {
     "name": "stdout",
     "output_type": "stream",
     "text": [
      "-2.757382105892128\n"
     ]
    }
   ],
   "source": [
    "print(t_test(non_violent_scores, scores, 'Negative'))"
   ]
  },
  {
   "cell_type": "markdown",
   "metadata": {},
   "source": [
    "T-test reveals that the violence articles contain significantly more negative sentiment"
   ]
  },
  {
   "cell_type": "code",
   "execution_count": 25,
   "metadata": {},
   "outputs": [
    {
     "name": "stdout",
     "output_type": "stream",
     "text": [
      "0.0052725453440038055 778\n",
      "0.004384892269736843 152\n",
      "244.5652764566976\n"
     ]
    }
   ],
   "source": [
    "print(degrees_of_freedom(non_violent_scores, scores, 'Negative'))"
   ]
  },
  {
   "cell_type": "code",
   "execution_count": 26,
   "metadata": {},
   "outputs": [
    {
     "name": "stdout",
     "output_type": "stream",
     "text": [
      "0.145\n",
      "0.1655\n"
     ]
    }
   ],
   "source": [
    "print(non_violent_scores['Negative'].median())\n",
    "print(scores['Negative'].median())"
   ]
  },
  {
   "cell_type": "code",
   "execution_count": 27,
   "metadata": {},
   "outputs": [
    {
     "name": "stdout",
     "output_type": "stream",
     "text": [
      "0.10072879177377893\n",
      "0.08258552631578948\n"
     ]
    }
   ],
   "source": [
    "print(non_violent_scores['Positive'].mean())\n",
    "print(scores['Positive'].mean())"
   ]
  },
  {
   "cell_type": "markdown",
   "metadata": {},
   "source": [
    "T-test for positive reveals that non-violence articles contain significantly more positive sentiment"
   ]
  },
  {
   "cell_type": "code",
   "execution_count": 28,
   "metadata": {},
   "outputs": [
    {
     "name": "stdout",
     "output_type": "stream",
     "text": [
      "4.209270919781524\n"
     ]
    }
   ],
   "source": [
    "print(t_test(non_violent_scores, scores, 'Positive'))"
   ]
  },
  {
   "cell_type": "markdown",
   "metadata": {},
   "source": [
    "Neutral t-test: no significant difference"
   ]
  },
  {
   "cell_type": "code",
   "execution_count": 29,
   "metadata": {},
   "outputs": [
    {
     "name": "stdout",
     "output_type": "stream",
     "text": [
      "-0.2598285610628474\n"
     ]
    }
   ],
   "source": [
    "print(t_test(non_violent_scores, scores, 'Neutral'))"
   ]
  },
  {
   "cell_type": "markdown",
   "metadata": {},
   "source": [
    "Compound t-test: much more positive for the non-violent overall"
   ]
  },
  {
   "cell_type": "code",
   "execution_count": 30,
   "metadata": {},
   "outputs": [
    {
     "name": "stdout",
     "output_type": "stream",
     "text": [
      "5.935199927017676\n"
     ]
    }
   ],
   "source": [
    "print(t_test(non_violent_scores, scores, 'Compound'))"
   ]
  },
  {
   "cell_type": "code",
   "execution_count": 31,
   "metadata": {},
   "outputs": [
    {
     "name": "stdout",
     "output_type": "stream",
     "text": [
      "0.096\n",
      "0.072\n"
     ]
    }
   ],
   "source": [
    "print(non_violent_scores['Positive'].median())\n",
    "print(scores['Positive'].median())"
   ]
  },
  {
   "cell_type": "markdown",
   "metadata": {},
   "source": [
    "NYT v. Atlanta Daily World"
   ]
  },
  {
   "cell_type": "code",
   "execution_count": 32,
   "metadata": {},
   "outputs": [],
   "source": [
    "nyt = pd.read_excel('/Users/clairefenton/Downloads/NYT_predictions.xlsx')"
   ]
  },
  {
   "cell_type": "code",
   "execution_count": 33,
   "metadata": {},
   "outputs": [],
   "source": [
    "new_text = []\n",
    "for i in range(len(nyt)):\n",
    "    text = nyt['original_text'].iloc[i]\n",
    "    text = text_preprocessing(text)\n",
    "    new_text.append(text)\n",
    "nyt['text'] = new_text"
   ]
  },
  {
   "cell_type": "code",
   "execution_count": 34,
   "metadata": {},
   "outputs": [
    {
     "name": "stdout",
     "output_type": "stream",
     "text": [
      "0.1725723404255319\n",
      "0.174625\n"
     ]
    },
    {
     "data": {
      "text/plain": [
       "-0.3421651410489064"
      ]
     },
     "execution_count": 34,
     "metadata": {},
     "output_type": "execute_result"
    }
   ],
   "source": [
    "nyt_violent = nyt[nyt['Correct_KC'] == 1]\n",
    "nyt_scores = score_sentiment(nyt_violent, 'text')\n",
    "print(nyt_scores.Negative.mean())\n",
    "print(scores.Negative.mean())\n",
    "t_test(nyt_scores, scores, 'Negative')"
   ]
  },
  {
   "cell_type": "code",
   "execution_count": 35,
   "metadata": {},
   "outputs": [
    {
     "name": "stdout",
     "output_type": "stream",
     "text": [
      "0.09306063829787234\n",
      "0.08258552631578948\n"
     ]
    },
    {
     "data": {
      "text/plain": [
       "2.455093332598668"
      ]
     },
     "execution_count": 35,
     "metadata": {},
     "output_type": "execute_result"
    }
   ],
   "source": [
    "print(nyt_scores.Positive.mean())\n",
    "print(scores.Positive.mean())\n",
    "t_test(nyt_scores, scores, 'Positive')"
   ]
  },
  {
   "cell_type": "code",
   "execution_count": 36,
   "metadata": {},
   "outputs": [
    {
     "name": "stdout",
     "output_type": "stream",
     "text": [
      "0.7343829787234042\n",
      "0.7428157894736842\n"
     ]
    },
    {
     "data": {
      "text/plain": [
       "-1.2971223461173975"
      ]
     },
     "execution_count": 36,
     "metadata": {},
     "output_type": "execute_result"
    }
   ],
   "source": [
    "print(nyt_scores.Neutral.mean())\n",
    "print(scores.Neutral.mean())\n",
    "t_test(nyt_scores, scores, 'Neutral')"
   ]
  },
  {
   "cell_type": "code",
   "execution_count": 37,
   "metadata": {},
   "outputs": [
    {
     "name": "stdout",
     "output_type": "stream",
     "text": [
      "-0.41969446808510635\n",
      "-0.6921131578947368\n"
     ]
    },
    {
     "data": {
      "text/plain": [
       "4.845840476994295"
      ]
     },
     "execution_count": 37,
     "metadata": {},
     "output_type": "execute_result"
    }
   ],
   "source": [
    "print(nyt_scores.Compound.mean())\n",
    "print(scores.Compound.mean())\n",
    "t_test(nyt_scores, scores, 'Compound')"
   ]
  },
  {
   "cell_type": "markdown",
   "metadata": {},
   "source": [
    "What if we normalized by removing neutral sentiment? Significantly more neutral in ATL, likely because of all the fluff and extraneous articles getting tacked on to actual racial violence"
   ]
  },
  {
   "cell_type": "code",
   "execution_count": 38,
   "metadata": {},
   "outputs": [
    {
     "name": "stdout",
     "output_type": "stream",
     "text": [
      "0.640019037306897\n",
      "0.6798140802240171\n"
     ]
    },
    {
     "data": {
      "text/plain": [
       "-2.7723073842965746"
      ]
     },
     "execution_count": 38,
     "metadata": {},
     "output_type": "execute_result"
    }
   ],
   "source": [
    "atl_norm = pd.DataFrame()\n",
    "atl_norm['Positive'] = scores.Positive / (scores.Positive + scores.Negative)\n",
    "atl_norm['Negative'] = scores.Negative / (scores.Positive + scores.Negative)\n",
    "\n",
    "nyt_norm = pd.DataFrame()\n",
    "nyt_norm['Positive'] = nyt_scores.Positive / (nyt_scores.Positive + nyt_scores.Negative)\n",
    "nyt_norm['Negative'] = nyt_scores.Negative / (nyt_scores.Positive + nyt_scores.Negative)\n",
    "\n",
    "print(nyt_norm.Negative.mean())\n",
    "print(atl_norm.Negative.mean())\n",
    "\n",
    "t_test(nyt_norm, atl_norm, 'Negative')"
   ]
  },
  {
   "cell_type": "markdown",
   "metadata": {},
   "source": [
    "Looks like negative test is significant when neutral is removed (considering only 'emotional' text)"
   ]
  },
  {
   "cell_type": "markdown",
   "metadata": {},
   "source": [
    "ATL Daily World 1970"
   ]
  },
  {
   "cell_type": "code",
   "execution_count": 39,
   "metadata": {},
   "outputs": [],
   "source": [
    "atl70 = pd.read_excel('/Users/clairefenton/Downloads/ATL_1970_Predictions.xlsx')"
   ]
  },
  {
   "cell_type": "code",
   "execution_count": 40,
   "metadata": {},
   "outputs": [],
   "source": [
    "new_text = []\n",
    "for i in range(len(atl70)):\n",
    "    text = atl70['original_text'].iloc[i]\n",
    "    text = text_preprocessing(text)\n",
    "    new_text.append(text)"
   ]
  },
  {
   "cell_type": "code",
   "execution_count": 41,
   "metadata": {},
   "outputs": [
    {
     "name": "stdout",
     "output_type": "stream",
     "text": [
      "0.17621743036837376 0.09142048517520215\n"
     ]
    },
    {
     "data": {
      "text/plain": [
       "Text(0.5, 1.0, 'Distribution of Positive and Negative Sentiment for Atlanta Daily World 1970 Racial Violence Articles')"
      ]
     },
     "execution_count": 41,
     "metadata": {},
     "output_type": "execute_result"
    },
    {
     "data": {
      "image/png": "[encoded data removed]",
      "text/plain": [
       "<Figure size 640x480 with 1 Axes>"
      ]
     },
     "metadata": {},
     "output_type": "display_data"
    }
   ],
   "source": [
    "atl70['text'] = new_text\n",
    "atl70_violent = atl70[atl70['CF_Correct'] == 1]\n",
    "atl70_scores = score_sentiment(atl70_violent, 'text')\n",
    "print(atl70_scores.Negative.mean(), atl70_scores.Positive.mean())\n",
    "plt.hist(atl70_scores['Positive'], label='Positive', alpha=0.9, color='lightblue')\n",
    "plt.hist(atl70_scores['Negative'], label='Negative', alpha=0.5, color='red')\n",
    "plt.xlabel(\"Proportion of words\")\n",
    "plt.ylabel(\"Number of articles\")\n",
    "plt.title(\"Distribution of Positive and Negative Sentiment for Atlanta Daily World 1970 Racial Violence Articles\")"
   ]
  },
  {
   "cell_type": "code",
   "execution_count": 42,
   "metadata": {},
   "outputs": [],
   "source": [
    "atl70.to_excel('ATL_1970_Predictions_new_preprocessing.xlsx')"
   ]
  },
  {
   "cell_type": "code",
   "execution_count": 43,
   "metadata": {},
   "outputs": [
    {
     "name": "stdout",
     "output_type": "stream",
     "text": [
      "0.1725723404255319\n",
      "0.17621743036837376\n"
     ]
    }
   ],
   "source": [
    "print(nyt_scores.Negative.mean())\n",
    "print(atl70_scores.Negative.mean())"
   ]
  },
  {
   "cell_type": "code",
   "execution_count": 44,
   "metadata": {},
   "outputs": [
    {
     "data": {
      "text/plain": [
       "-1.0089527293367704"
      ]
     },
     "execution_count": 44,
     "metadata": {},
     "output_type": "execute_result"
    }
   ],
   "source": [
    "t_test(nyt_scores, atl70_scores, 'Negative')"
   ]
  },
  {
   "cell_type": "code",
   "execution_count": 45,
   "metadata": {},
   "outputs": [
    {
     "data": {
      "text/plain": [
       "0.6492566458102638"
      ]
     },
     "execution_count": 45,
     "metadata": {},
     "output_type": "execute_result"
    }
   ],
   "source": [
    "t_test(nyt_scores, atl70_scores, 'Positive')"
   ]
  },
  {
   "cell_type": "code",
   "execution_count": 46,
   "metadata": {},
   "outputs": [
    {
     "data": {
      "text/plain": [
       "0.5880039404493291"
      ]
     },
     "execution_count": 46,
     "metadata": {},
     "output_type": "execute_result"
    }
   ],
   "source": [
    "t_test(nyt_scores, atl70_scores, 'Neutral')"
   ]
  },
  {
   "cell_type": "code",
   "execution_count": 47,
   "metadata": {},
   "outputs": [
    {
     "name": "stdout",
     "output_type": "stream",
     "text": [
      "-1.0145800187379002\n"
     ]
    }
   ],
   "source": [
    "atl70_norm = pd.DataFrame()\n",
    "atl70_norm['Positive'] = atl70_scores.Positive / (atl70_scores.Positive + atl70_scores.Negative)\n",
    "atl70_norm['Negative'] = atl70_scores.Negative / (atl70_scores.Positive + atl70_scores.Negative)\n",
    "print(t_test(nyt_norm, atl70_norm, 'Negative'))"
   ]
  },
  {
   "cell_type": "code",
   "execution_count": 48,
   "metadata": {},
   "outputs": [
    {
     "name": "stdout",
     "output_type": "stream",
     "text": [
      "-0.2700994380129049\n",
      "-2.109515718034778\n",
      "2.1736425508518384\n"
     ]
    }
   ],
   "source": [
    "print(t_test(scores, atl70_scores, 'Negative'))\n",
    "print(t_test(scores, atl70_scores, 'Positive'))\n",
    "print(t_test(atl_norm, atl70_norm, 'Negative'))"
   ]
  },
  {
   "cell_type": "markdown",
   "metadata": {},
   "source": [
    "ATL Daily World 1940"
   ]
  },
  {
   "cell_type": "code",
   "execution_count": 49,
   "metadata": {},
   "outputs": [],
   "source": [
    "atl40 = pd.read_excel('/Users/clairefenton/Downloads/ATL_1940-11-7.xlsx')"
   ]
  },
  {
   "cell_type": "code",
   "execution_count": 50,
   "metadata": {},
   "outputs": [],
   "source": [
    "atl40 = atl40.dropna()\n",
    "new_text = []\n",
    "for i in range(len(atl40)):\n",
    "    text = atl40['original_text'].iloc[i]\n",
    "    text = text_preprocessing(text)\n",
    "    new_text.append(text)\n",
    "atl40['text'] = new_text"
   ]
  },
  {
   "cell_type": "code",
   "execution_count": 51,
   "metadata": {},
   "outputs": [
    {
     "name": "stdout",
     "output_type": "stream",
     "text": [
      "0.17381357196122296 0.08908277404921701\n"
     ]
    },
    {
     "data": {
      "text/plain": [
       "Text(0.5, 1.0, 'Distribution of Positive and Negative Sentiment for Atlanta Daily World 1940 Racial Violence Articles')"
      ]
     },
     "execution_count": 51,
     "metadata": {},
     "output_type": "execute_result"
    },
    {
     "data": {
      "image/png": "[encoded data removed]",
      "text/plain": [
       "<Figure size 640x480 with 1 Axes>"
      ]
     },
     "metadata": {},
     "output_type": "display_data"
    }
   ],
   "source": [
    "atl40_violent = atl40[atl40['entry'] == 1]\n",
    "atl40_scores = score_sentiment(atl40_violent, 'text')\n",
    "print(atl40_scores.Negative.mean(), atl40_scores.Positive.mean())\n",
    "\n",
    "atl40_norm = pd.DataFrame()\n",
    "atl40_norm['Positive'] = atl40_scores.Positive / (atl40_scores.Positive + atl40_scores.Negative)\n",
    "atl40_norm['Negative'] = atl40_scores.Negative / (atl40_scores.Positive + atl40_scores.Negative)\n",
    "\n",
    "plt.hist(atl40_scores['Positive'], label='Positive', alpha=0.9, color='lightblue')\n",
    "plt.hist(atl40_scores['Negative'], label='Negative', alpha=0.5, color='red')\n",
    "plt.xlabel(\"Proportion of words\")\n",
    "plt.ylabel(\"Number of articles\")\n",
    "plt.title(\"Distribution of Positive and Negative Sentiment for Atlanta Daily World 1940 Racial Violence Articles\")"
   ]
  },
  {
   "cell_type": "code",
   "execution_count": 52,
   "metadata": {},
   "outputs": [
    {
     "name": "stdout",
     "output_type": "stream",
     "text": [
      "-0.13985042620739646\n",
      "1.580496314819641\n",
      "-2.068637954754259\n"
     ]
    }
   ],
   "source": [
    "print(t_test(atl40_scores, scores, 'Negative'))\n",
    "print(t_test(atl40_scores, scores, 'Positive'))\n",
    "print(t_test(atl40_norm, atl_norm, 'Negative'))"
   ]
  },
  {
   "cell_type": "code",
   "execution_count": 53,
   "metadata": {},
   "outputs": [
    {
     "name": "stdout",
     "output_type": "stream",
     "text": [
      "-0.7339188790081247\n",
      "-1.0375481588849425\n",
      "0.2511682894830444\n"
     ]
    }
   ],
   "source": [
    "print(t_test(atl40_scores, atl70_scores, 'Negative'))\n",
    "print(t_test(atl40_scores, atl70_scores, 'Positive'))\n",
    "print(t_test(atl40_norm, atl70_norm, 'Negative'))"
   ]
  },
  {
   "cell_type": "code",
   "execution_count": 54,
   "metadata": {},
   "outputs": [
    {
     "name": "stdout",
     "output_type": "stream",
     "text": [
      "0.3589571004698449\n",
      "-1.6602483384508628\n",
      "1.301492650716073\n"
     ]
    }
   ],
   "source": [
    "print(t_test(atl40_scores, nyt_scores, 'Negative'))\n",
    "print(t_test(atl40_scores, nyt_scores, 'Positive'))\n",
    "print(t_test(atl40_norm, nyt_norm, 'Negative'))"
   ]
  },
  {
   "cell_type": "code",
   "execution_count": 55,
   "metadata": {},
   "outputs": [],
   "source": [
    "atl40.to_excel('ATL_1940_new_preprocessing.xlsx')"
   ]
  }
 ],
 "metadata": {
  "kernelspec": {
   "display_name": "Python 3",
   "language": "python",
   "name": "python3"
  },
  "language_info": {
   "codemirror_mode": {
    "name": "ipython",
    "version": 3
   },
   "file_extension": ".py",
   "mimetype": "text/x-python",
   "name": "python",
   "nbconvert_exporter": "python",
   "pygments_lexer": "ipython3",
   "version": "3.11.1"
  },
  "orig_nbformat": 4
 },
 "nbformat": 4,
 "nbformat_minor": 2
}
