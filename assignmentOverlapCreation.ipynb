{
 "cells": [
  {
   "cell_type": "code",
   "execution_count": 8,
   "metadata": {},
   "outputs": [],
   "source": [
    "import pandas as pd\n",
    "import numpy as np\n",
    "import random"
   ]
  },
  {
   "cell_type": "code",
   "execution_count": 15,
   "metadata": {},
   "outputs": [],
   "source": [
    "articles = pd.read_excel('/Users/clairefenton/Downloads/ATL_predictions_1962.xlsx')"
   ]
  },
  {
   "cell_type": "code",
   "execution_count": 16,
   "metadata": {},
   "outputs": [
    {
     "data": {
      "text/plain": [
       "(1253, 13)"
      ]
     },
     "execution_count": 16,
     "metadata": {},
     "output_type": "execute_result"
    }
   ],
   "source": [
    "articles.shape"
   ]
  },
  {
   "cell_type": "code",
   "execution_count": 17,
   "metadata": {},
   "outputs": [],
   "source": [
    "def overlap_sample(articles, num_samples, size, overlap):\n",
    "    samples = []\n",
    "    last_sample = []\n",
    "    for i in range(num_samples):\n",
    "        if i == 0:\n",
    "            last_sample = random.sample(range(articles.shape[0]), size)\n",
    "            samples.append(last_sample)\n",
    "        else:\n",
    "            overlap_portion = set(random.sample(last_sample, overlap))\n",
    "            available_options = list(set(range(articles.shape[0])) - overlap_portion)\n",
    "            final_sample = random.sample(available_options, size-overlap)\n",
    "            final_sample = final_sample + list(overlap_portion)\n",
    "            last_sample = final_sample\n",
    "            samples.append(final_sample)\n",
    "    return samples"
   ]
  },
  {
   "cell_type": "code",
   "execution_count": 18,
   "metadata": {},
   "outputs": [],
   "source": [
    "coding_samples = overlap_sample(articles, 6, 200, 37)"
   ]
  },
  {
   "cell_type": "code",
   "execution_count": 19,
   "metadata": {},
   "outputs": [
    {
     "name": "stdout",
     "output_type": "stream",
     "text": [
      "41.0\n"
     ]
    }
   ],
   "source": [
    "all_counts = []\n",
    "for i in range(1000):\n",
    "    first_sample = random.sample(range(articles.shape[0]), 200)\n",
    "    second_sample = random.sample(range(articles.shape[0]), 200)\n",
    "    duplicates = 0\n",
    "    for x in first_sample:\n",
    "        if x in second_sample:\n",
    "            duplicates += 1\n",
    "all_counts.append(duplicates)\n",
    "print(np.mean(duplicates))"
   ]
  },
  {
   "cell_type": "code",
   "execution_count": 20,
   "metadata": {},
   "outputs": [],
   "source": [
    "for i in range(6):\n",
    "    training_set = articles.iloc[coding_samples[i]]\n",
    "    name = 'ATL_1962_training_set_' + str(i + 1) + '.xlsx'\n",
    "    training_set.to_excel(name)"
   ]
  }
 ],
 "metadata": {
  "kernelspec": {
   "display_name": "base",
   "language": "python",
   "name": "python3"
  },
  "language_info": {
   "codemirror_mode": {
    "name": "ipython",
    "version": 3
   },
   "file_extension": ".py",
   "mimetype": "text/x-python",
   "name": "python",
   "nbconvert_exporter": "python",
   "pygments_lexer": "ipython3",
   "version": "3.11.1"
  },
  "orig_nbformat": 4
 },
 "nbformat": 4,
 "nbformat_minor": 2
}
